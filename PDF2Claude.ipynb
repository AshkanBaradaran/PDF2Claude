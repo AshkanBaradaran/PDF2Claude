{
 "cells": [
  {
   "cell_type": "code",
   "execution_count": null,
   "id": "28cf49fb",
   "metadata": {},
   "outputs": [],
   "source": [
    "pip install PyMuPDF gspread google-auth"
   ]
  },
  {
   "cell_type": "code",
   "execution_count": null,
   "id": "58623825",
   "metadata": {},
   "outputs": [],
   "source": [
    "import fitz\n",
    "import gspread\n",
    "from google.oauth2.service_account import Credentials\n",
    "import os\n",
    "import time\n",
    "\n",
    "# Load credentials and create a client to interact with Google Sheets\n",
    "scope = [\"https://www.googleapis.com/auth/spreadsheets\", \"https://www.googleapis.com/auth/drive\"]\n",
    "creds = Credentials.from_service_account_file('Path of the .json file from Google Cloud', scopes=scope)\n",
    "client = gspread.authorize(creds)\n",
    "\n",
    "# Open the Google Sheet using the sheet name\n",
    "sheet = client.open(\"Name of the Google Sheet\").sheet1\n",
    "\n",
    "# Directory where PDF files are stored\n",
    "pdf_directory = 'Path of the folder containnig PDFs'\n",
    "\n",
    "# Function to list all PDF files in a directory\n",
    "def list_pdf_files(directory):\n",
    "    return [file for file in os.listdir(directory) if file.endswith('.pdf')]\n",
    "\n",
    "# Function to extract text from PDF and handle pagination\n",
    "def extract_text_with_fitz(file_path):\n",
    "    doc = fitz.open(file_path)\n",
    "    full_text = ''\n",
    "    for page in doc:\n",
    "        full_text += page.get_text()\n",
    "    doc.close()\n",
    "    return full_text\n",
    "\n",
    "# Get the list of PDF files\n",
    "pdf_files = list_pdf_files(pdf_directory)\n",
    "\n",
    "# Prepare the data for batch updates\n",
    "data = []\n",
    "for file_name in pdf_files:\n",
    "    file_path = f\"{pdf_directory}/{file_name}\"\n",
    "    text = extract_text_with_fitz(file_path)\n",
    "\n",
    "    # Segment text into chunks of 50K characters beacuse Google Sheet is limited to 50K\n",
    "    for i in range(0, len(text), 50000):\n",
    "        text_segment = text[i:i+50000]\n",
    "        data.append([file_name, text_segment])\n",
    "\n",
    "# Batch update the sheet\n",
    "batch_size = 10  # Define how many rows to write at a time\n",
    "time_delay = 2  # Delay in seconds to prevent rate limit issues\n",
    "\n",
    "for start in range(0, len(data), batch_size):\n",
    "    end = start + batch_size\n",
    "    chunk = data[start:end]\n",
    "    # Calculate the current end row based on how many items are in the chunk\n",
    "    end_row = start + len(chunk) + 1  # +1 because sheet rows start at 1, not 0\n",
    "    # Create the correct A1 notation range for this batch\n",
    "    range = f'A{start+2}:B{end_row+1}'  # +2 to account for header row and 0-index offset\n",
    "    sheet.update(range, chunk)\n",
    "    time.sleep(time_delay)  # Pause to avoid hitting API limits\n",
    "\n",
    "print(\"Text extraction and sheet update complete!\")\n"
   ]
  }
 ],
 "metadata": {
  "kernelspec": {
   "display_name": "Python 3",
   "language": "python",
   "name": "python3"
  },
  "language_info": {
   "codemirror_mode": {
    "name": "ipython",
    "version": 3
   },
   "file_extension": ".py",
   "mimetype": "text/x-python",
   "name": "python",
   "nbconvert_exporter": "python",
   "pygments_lexer": "ipython3",
   "version": "3.8.8"
  }
 },
 "nbformat": 4,
 "nbformat_minor": 5
}
